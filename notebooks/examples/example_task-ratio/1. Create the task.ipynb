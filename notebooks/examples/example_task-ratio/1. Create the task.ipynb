{
 "cells": [
  {
   "cell_type": "code",
   "execution_count": 1,
   "metadata": {},
   "outputs": [],
   "source": [
    "# setup django project\n",
    "import sys\n",
    "sys.path.append(\"../../..\")\n",
    "import django\n",
    "django.setup()\n",
    "\n",
    "# general\n",
    "import random\n",
    "import json\n",
    "import pandas as pd\n",
    "from tqdm import tqdm\n",
    "\n",
    "# django\n",
    "from django.db import IntegrityError\n",
    "\n",
    "# funcrowd\n",
    "from tasks.models import (\n",
    "    Mission,\n",
    "    Task,\n",
    "    ItemTemplate,\n",
    "    Item,\n",
    "    Annotation\n",
    ")\n",
    "from modules.order_strategy.models import Strategy\n",
    "from modules.packages.models import MissionPackages, Package\n",
    "from modules.feedback.models import Feedback, FeedbackScoreField\n"
   ]
  },
  {
   "cell_type": "markdown",
   "metadata": {},
   "source": [
    "### 0. Setup default values in the database"
   ]
  },
  {
   "cell_type": "code",
   "execution_count": 2,
   "metadata": {},
   "outputs": [],
   "source": [
    "Strategy.register_values()\n",
    "FeedbackScoreField.register_values()"
   ]
  },
  {
   "cell_type": "markdown",
   "metadata": {},
   "source": [
    "### 1. Create ItemTemplate from a json schema\n",
    "1. Read a schema\n",
    "2. Create a schema if it doesn't exist in the database yet"
   ]
  },
  {
   "cell_type": "code",
   "execution_count": 3,
   "metadata": {},
   "outputs": [],
   "source": [
    "template_schema = json.load(open(\"./data/item_template_schema.json\"))"
   ]
  },
  {
   "cell_type": "code",
   "execution_count": 4,
   "metadata": {},
   "outputs": [
    {
     "name": "stdout",
     "output_type": "stream",
     "text": [
      "duplicate key value violates unique constraint \"tasks_itemtemplate_name_c8657b23_uniq\"\n",
      "DETAIL:  Key (name)=(example_task-ratio) already exists.\n",
      "\n"
     ]
    }
   ],
   "source": [
    "try:\n",
    "    template = ItemTemplate.create_template_from_schema(template_schema)\n",
    "except IntegrityError as e:\n",
    "    print(e)"
   ]
  },
  {
   "cell_type": "markdown",
   "metadata": {},
   "source": [
    "### 2. Create the Mission and Task objects"
   ]
  },
  {
   "cell_type": "code",
   "execution_count": 5,
   "metadata": {},
   "outputs": [],
   "source": [
    "template = ItemTemplate.objects.get(name=template_schema['name'])\n",
    "strategy = Strategy.objects.get(name=\"BreadthFirstStrategyLogic\")"
   ]
  },
  {
   "cell_type": "code",
   "execution_count": 6,
   "metadata": {},
   "outputs": [],
   "source": [
    "mission, _ = Mission.objects.get_or_create(\n",
    "    name=\"exmple_mission - radio\"\n",
    ")\n",
    "\n",
    "task1, _ = Task.objects.get_or_create(\n",
    "    name=\"example_task - ratio - 1\",\n",
    "    mission=mission,\n",
    "    strategy=strategy\n",
    ")\n",
    "\n",
    "feedback, created = Feedback.objects.get_or_create(task=task1)\n",
    "if created:\n",
    "    feedback.score_fields.add(FeedbackScoreField.objects.get(name=\"ReferenceScore\"))"
   ]
  },
  {
   "cell_type": "markdown",
   "metadata": {},
   "source": [
    "### 3. Create items and reference annotations"
   ]
  },
  {
   "cell_type": "code",
   "execution_count": 9,
   "metadata": {},
   "outputs": [],
   "source": [
    "def _get_random_item_data():\n",
    "    _first, _second = random.randint(1, 50), random.randint(1, 50)\n",
    "    input_text = f\"{_first} + {_second} = ?\"\n",
    "    correct_answer = _first + _second\n",
    "    answers = [correct_answer]\n",
    "    for _ in range(random.randint(2, 4)):\n",
    "        _value = random.randint(1, 100)\n",
    "        if _value not in answers:\n",
    "            answers.append(_value)\n",
    "    random.shuffle(answers)\n",
    "    return input_text, correct_answer, answers\n",
    "\n",
    "\n",
    "if task1.items.count() == 0:\n",
    "    # create item and annotation with a correct answer\n",
    "    for item_id in range(100):\n",
    "        input_text, correct_answer, answers = _get_random_item_data()\n",
    "\n",
    "        # create an item\n",
    "        item = Item.objects.create(\n",
    "            task=task1,\n",
    "            template=template,\n",
    "            data={\n",
    "                \"item_id\": item_id,\n",
    "                \"input\": input_text,\n",
    "                \"_output_sources\": answers\n",
    "            }\n",
    "        )\n",
    "\n",
    "        # create an annotation\n",
    "        Annotation.objects.create(\n",
    "            item=item,\n",
    "            user=None,\n",
    "            data={\n",
    "                'output': correct_answer\n",
    "            }\n",
    "        )"
   ]
  },
  {
   "cell_type": "markdown",
   "metadata": {},
   "source": [
    "### 4. Create packages"
   ]
  },
  {
   "cell_type": "code",
   "execution_count": 10,
   "metadata": {},
   "outputs": [],
   "source": [
    "def create_packages(count, task, description, size=10):\n",
    "    for _ in tqdm(range(count)):\n",
    "        package = mp.create_package(\n",
    "            size=size,\n",
    "            task=task,\n",
    "            name=f\"{task1.name}.{mp.packages.count()}\",\n",
    "            metadata={\n",
    "                \"task\": task.id,\n",
    "                \"description\": description\n",
    "            }\n",
    "        )"
   ]
  },
  {
   "cell_type": "code",
   "execution_count": 11,
   "metadata": {},
   "outputs": [],
   "source": [
    "mp, _ = MissionPackages.objects.get_or_create(\n",
    "    mission=mission,\n",
    "    max_annotations=10,\n",
    "    strategy=strategy\n",
    ")"
   ]
  },
  {
   "cell_type": "markdown",
   "metadata": {},
   "source": [
    "#### 4.1. Create packages for the first task"
   ]
  },
  {
   "cell_type": "code",
   "execution_count": 14,
   "metadata": {},
   "outputs": [],
   "source": [
    "if not task1.items.exclude(package=None).count():\n",
    "    create_packages(10, task1, \"high quality reference\")"
   ]
  }
 ],
 "metadata": {
  "kernelspec": {
   "display_name": "Django Shell-Plus",
   "language": "python",
   "name": "django_extensions"
  },
  "language_info": {
   "codemirror_mode": {
    "name": "ipython",
    "version": 3
   },
   "file_extension": ".py",
   "mimetype": "text/x-python",
   "name": "python",
   "nbconvert_exporter": "python",
   "pygments_lexer": "ipython3",
   "version": "3.6.12"
  }
 },
 "nbformat": 4,
 "nbformat_minor": 4
}
