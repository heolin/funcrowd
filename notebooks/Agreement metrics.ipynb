{
 "cells": [
  {
   "cell_type": "code",
   "execution_count": 1,
   "metadata": {},
   "outputs": [],
   "source": [
    "import sys\n",
    "sys.path.append(\"..\")\n",
    "import django\n",
    "django.setup()"
   ]
  },
  {
   "cell_type": "code",
   "execution_count": 2,
   "metadata": {},
   "outputs": [],
   "source": [
    "import pandas as pd\n",
    "import numpy as np"
   ]
  },
  {
   "cell_type": "code",
   "execution_count": 3,
   "metadata": {},
   "outputs": [],
   "source": [
    "df_raw = pd.read_csv('data.csv')\n",
    "\n",
    "_df = df_raw[[\"item_id\", \"output\"]]\n",
    "df = _df.pivot_table(index='item_id', columns=\"output\", aggfunc=len, fill_value=0)\n",
    "\n",
    "_df = df_raw[[\"user_id\", \"output\"]]\n",
    "dfa = _df.pivot_table(index='user_id', columns=\"output\", aggfunc=len, fill_value=0)"
   ]
  },
  {
   "cell_type": "markdown",
   "metadata": {},
   "source": [
    "## Weighting scheme\n",
    "Based on https://github.com/jmgirard/mReliability/wiki/Weighting-scheme"
   ]
  },
  {
   "cell_type": "code",
   "execution_count": 4,
   "metadata": {},
   "outputs": [],
   "source": [
    "def identity_kernel(x, y, q):\n",
    "    return float(x == y)\n",
    "\n",
    "def linear_kernel(x, y, q):\n",
    "    return 1 - abs(x - y) / (q - 1)\n",
    "\n",
    "def quadratic_kernel(x, y, q):\n",
    "    return 1 - (x - y)**2 / (q - 1)**2\n",
    "\n",
    "\n",
    "def get_weights(q, kernel):\n",
    "    return np.array([\n",
    "        [\n",
    "            kernel(x, y, q) for x in range(q)\n",
    "        ] for y in range(q)\n",
    "    ])"
   ]
  },
  {
   "cell_type": "markdown",
   "metadata": {},
   "source": [
    "## Observed agreement\n",
    "Based on https://github.com/jmgirard/mReliability/wiki/Agreement-or-accuracy"
   ]
  },
  {
   "cell_type": "code",
   "execution_count": 5,
   "metadata": {},
   "outputs": [],
   "source": [
    "def observed_agreement(df, weights_kernel=identity_kernel):\n",
    "    N, q = df.shape\n",
    "    n = df.sum(axis=1)\n",
    "    \n",
    "    w = get_weights(q, weights_kernel)\n",
    "    \n",
    "    r_star = df.dot(w)\n",
    "    \n",
    "    po = ((df * (r_star-1)).sum(axis=1) / (n * (n-1))).sum()/N\n",
    "    return po"
   ]
  },
  {
   "cell_type": "code",
   "execution_count": 6,
   "metadata": {},
   "outputs": [
    {
     "data": {
      "text/plain": [
       "0.378021978021978"
      ]
     },
     "execution_count": 6,
     "metadata": {},
     "output_type": "execute_result"
    }
   ],
   "source": [
    "observed_agreement(df)"
   ]
  },
  {
   "cell_type": "markdown",
   "metadata": {},
   "source": [
    "## Bennett et al.'s S score\n",
    "Based on https://github.com/jmgirard/mReliability/wiki/Bennett-et-al.'s-S-score"
   ]
  },
  {
   "cell_type": "code",
   "execution_count": 7,
   "metadata": {},
   "outputs": [],
   "source": [
    "def s_score(df, weights_kernel=identity_kernel):\n",
    "    N, q = df.shape\n",
    "    n = df.sum(axis=1)\n",
    "    \n",
    "    w = get_weights(q, weights_kernel)\n",
    "    \n",
    "    r_star = df.dot(w)\n",
    "    \n",
    "    po = ((df * (r_star-1)).sum(axis=1) / (n * (n-1))).sum()/N\n",
    "    \n",
    "    pc = w.sum() / q**2\n",
    "    \n",
    "    S = (po - pc) / (1 - pc)\n",
    "    return S"
   ]
  },
  {
   "cell_type": "code",
   "execution_count": 8,
   "metadata": {},
   "outputs": [
    {
     "data": {
      "text/plain": [
       "0.2225274725274725"
      ]
     },
     "execution_count": 8,
     "metadata": {},
     "output_type": "execute_result"
    }
   ],
   "source": [
    "s_score(df)"
   ]
  },
  {
   "cell_type": "code",
   "execution_count": 9,
   "metadata": {},
   "outputs": [],
   "source": [
    "def cohens_kappa(df, dfa, weights_kernel=identity_kernel):\n",
    "    N, q = df.shape\n",
    "    n = df.sum(axis=1)\n",
    "\n",
    "    w = get_weights(q, weights_kernel)\n",
    "\n",
    "    r_star = df.dot(w)\n",
    "\n",
    "    po = ((df * (r_star-1)).sum(axis=1) / (n * (n-1))).sum() / N\n",
    "\n",
    "    p = dfa.div(dfa.sum(axis=1), axis=0)\n",
    "    r, q = p.shape\n",
    "\n",
    "    pbar = p.sum(axis=0) / r\n",
    "\n",
    "    rpbar = r * np.array(pbar).reshape(1, q).T * np.array(pbar).reshape(1, q)\n",
    "    pg = np.array(p).T.dot(np.array(p))\n",
    "    s2 = (pg - rpbar) / (r - 1)\n",
    "\n",
    "    pbarplus = np.array(pbar).reshape(1, q).T * np.array(pbar).reshape(1, q)\n",
    "    pc = (w * (pbarplus - s2/r)).sum()\n",
    "\n",
    "    k = (po - pc) / (1 - pc)\n",
    "    return k"
   ]
  },
  {
   "cell_type": "code",
   "execution_count": 10,
   "metadata": {},
   "outputs": [
    {
     "data": {
      "text/plain": [
       "0.21704246783787523"
      ]
     },
     "execution_count": 10,
     "metadata": {},
     "output_type": "execute_result"
    }
   ],
   "source": [
    "cohens_kappa(df, dfa)"
   ]
  },
  {
   "cell_type": "markdown",
   "metadata": {},
   "source": [
    "## Gwet's gamma coefficient\n",
    "Based on https://github.com/jmgirard/mReliability/wiki/Gwet's-gamma-coefficient"
   ]
  },
  {
   "cell_type": "code",
   "execution_count": 11,
   "metadata": {},
   "outputs": [],
   "source": [
    "def gwets_gamma(df, weights_kernel=identity_kernel):\n",
    "    N, q = df.shape\n",
    "    n = df.sum(axis=1)\n",
    "\n",
    "    w = get_weights(q, weights_kernel)\n",
    "\n",
    "    r_star = df.dot(w)\n",
    "\n",
    "    po = ((df * (r_star-1)).sum(axis=1) / (n * (n-1))).sum() / N\n",
    "\n",
    "    Tw = w.sum()\n",
    "\n",
    "    pi = df.div(df.sum(axis=1), axis=0).sum() / N\n",
    "\n",
    "    pc = (pi*(1 - pi)).values.sum() * Tw / (q*(q-1))\n",
    "\n",
    "    gamma = (po - pc) / (1 - pc)\n",
    "    return gamma"
   ]
  },
  {
   "cell_type": "code",
   "execution_count": 12,
   "metadata": {},
   "outputs": [
    {
     "data": {
      "text/plain": [
       "0.22561415081662817"
      ]
     },
     "execution_count": 12,
     "metadata": {},
     "output_type": "execute_result"
    }
   ],
   "source": [
    "gwets_gamma(df)"
   ]
  },
  {
   "cell_type": "markdown",
   "metadata": {},
   "source": [
    "## Krippendorff's alpha coefficient\n",
    "Based on https://github.com/jmgirard/mReliability/wiki/Krippendorff's-alpha-coefficient"
   ]
  },
  {
   "cell_type": "code",
   "execution_count": 17,
   "metadata": {},
   "outputs": [],
   "source": [
    "def krippendorffs_alpha(df, weights_kernel=identity_kernel):\n",
    "    N, q = df.shape\n",
    "    n = df.sum(axis=1)\n",
    "\n",
    "    w = get_weights(q, weights_kernel)\n",
    "\n",
    "    r_star = df.dot(w)\n",
    "\n",
    "    po2 = ((df * (r_star-1)).sum(axis=1) / (n * (n-1))).sum()/N\n",
    "    \n",
    "    rdash = df.sum(axis=1).sum() / N\n",
    "\n",
    "    epsilon = 1 / (N*rdash)\n",
    "    po = po2 * (1-epsilon) + epsilon\n",
    "\n",
    "    pi = df.div(df.sum(axis=1), axis=0).sum() / N\n",
    "\n",
    "    pc = (w * np.array(pi).reshape(1, q).T * np.array(pi).reshape(1, q)).sum()\n",
    "\n",
    "    alpha = (po - pc) / (1 - pc)\n",
    "    return alpha"
   ]
  },
  {
   "cell_type": "code",
   "execution_count": 18,
   "metadata": {},
   "outputs": [
    {
     "data": {
      "text/plain": [
       "0.21557405653322695"
      ]
     },
     "execution_count": 18,
     "metadata": {},
     "output_type": "execute_result"
    }
   ],
   "source": [
    "krippendorffs_alpha(df)"
   ]
  },
  {
   "cell_type": "markdown",
   "metadata": {},
   "source": [
    "## Scott's pi coefficient (Fleiss)\n",
    "based on https://github.com/jmgirard/mReliability/wiki/Scott's-pi-coefficient"
   ]
  },
  {
   "cell_type": "code",
   "execution_count": 21,
   "metadata": {},
   "outputs": [],
   "source": [
    "def scotts_pi(df, weights_kernel=identity_kernel):\n",
    "    N, q = df.shape\n",
    "    n = df.sum(axis=1)\n",
    "\n",
    "    w = get_weights(q, weights_kernel)\n",
    "\n",
    "    r_star = df.dot(w)\n",
    "\n",
    "    po = ((df * (r_star-1)).sum(axis=1) / (n * (n-1))).sum() / N\n",
    "\n",
    "    pik = df.div(df.sum(axis=1), axis=0).sum() / N\n",
    "\n",
    "    pc = (w * np.array(pik).reshape(1, q).T * np.array(pik).reshape(1, q)).sum()\n",
    "\n",
    "    pi = (po - pc) / (1 - pc)\n",
    "    return pi"
   ]
  },
  {
   "cell_type": "code",
   "execution_count": 22,
   "metadata": {},
   "outputs": [
    {
     "data": {
      "text/plain": [
       "0.20993070442195524"
      ]
     },
     "execution_count": 22,
     "metadata": {},
     "output_type": "execute_result"
    }
   ],
   "source": [
    "scotts_pi(df)"
   ]
  }
 ],
 "metadata": {
  "kernelspec": {
   "display_name": "Django Shell-Plus",
   "language": "python",
   "name": "django_extensions"
  },
  "language_info": {
   "codemirror_mode": {
    "name": "ipython",
    "version": 3
   },
   "file_extension": ".py",
   "mimetype": "text/x-python",
   "name": "python",
   "nbconvert_exporter": "python",
   "pygments_lexer": "ipython3",
   "version": "3.6.6"
  }
 },
 "nbformat": 4,
 "nbformat_minor": 2
}
